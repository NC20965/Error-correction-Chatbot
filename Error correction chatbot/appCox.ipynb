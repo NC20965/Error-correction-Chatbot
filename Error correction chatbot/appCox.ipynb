{
 "cells": [
  {
   "cell_type": "code",
   "execution_count": 9,
   "id": "f8a32c6e-1893-47d8-8545-b32ebf916b07",
   "metadata": {},
   "outputs": [
    {
     "ename": "SyntaxError",
     "evalue": "(unicode error) 'unicodeescape' codec can't decode bytes in position 2-3: truncated \\UXXXXXXXX escape (1906863686.py, line 2)",
     "output_type": "error",
     "traceback": [
      "\u001b[1;36m  Cell \u001b[1;32mIn[9], line 2\u001b[1;36m\u001b[0m\n\u001b[1;33m    sys.path.append('C:\\Users\\User\\IntongoProjects\\DataScienceProjects\\COX DEMOchatbot')\u001b[0m\n\u001b[1;37m                    ^\u001b[0m\n\u001b[1;31mSyntaxError\u001b[0m\u001b[1;31m:\u001b[0m (unicode error) 'unicodeescape' codec can't decode bytes in position 2-3: truncated \\UXXXXXXXX escape\n"
     ]
    }
   ],
   "source": [
    "import sys\n",
    "sys.path.append('C:\\Users\\User\\IntongoProjects\\DataScienceProjects\\COX DEMOchatbot')\n"
   ]
  },
  {
   "cell_type": "code",
   "execution_count": 7,
   "id": "b8f90252-b4b6-4f3e-9439-485ef7d34f9f",
   "metadata": {},
   "outputs": [
    {
     "ename": "ModuleNotFoundError",
     "evalue": "No module named 'chatbot'",
     "output_type": "error",
     "traceback": [
      "\u001b[1;31m---------------------------------------------------------------------------\u001b[0m",
      "\u001b[1;31mModuleNotFoundError\u001b[0m                       Traceback (most recent call last)",
      "Cell \u001b[1;32mIn[7], line 2\u001b[0m\n\u001b[0;32m      1\u001b[0m \u001b[38;5;28;01mfrom\u001b[39;00m \u001b[38;5;21;01mflask\u001b[39;00m \u001b[38;5;28;01mimport\u001b[39;00m Flask, render_template, request\n\u001b[1;32m----> 2\u001b[0m \u001b[38;5;28;01mfrom\u001b[39;00m \u001b[38;5;21;01mchatbot\u001b[39;00m \u001b[38;5;28;01mimport\u001b[39;00m response, load_responses, load_error_responses\n\u001b[0;32m      4\u001b[0m \u001b[38;5;66;03m# Initialize Flask app\u001b[39;00m\n\u001b[0;32m      5\u001b[0m app \u001b[38;5;241m=\u001b[39m Flask(\u001b[38;5;18m__name__\u001b[39m)\n",
      "\u001b[1;31mModuleNotFoundError\u001b[0m: No module named 'chatbot'"
     ]
    }
   ],
   "source": [
    "from flask import Flask, render_template, request\n",
    "from chatbot import response, load_responses, load_error_responses\n",
    "\n",
    "# Initialize Flask app\n",
    "app = Flask(__name__)\n",
    "\n",
    "# Load chatbot data\n",
    "responses_data = load_responses('responses.json')\n",
    "if not responses_data:\n",
    "    raise Exception(\"Error: Responses data not loaded correctly.\")\n",
    "\n",
    "error_responses = load_error_responses('error_responses.txt')\n",
    "if not error_responses:\n",
    "    raise Exception(\"Error: No error responses found in the text file.\")\n",
    "\n",
    "# Route for chatbot's home page\n",
    "@app.route(\"/chatbot\")\n",
    "def home():\n",
    "    return render_template(\"index.html\")  # Ensure 'index.html' exists in the 'templates' folder\n",
    "\n",
    "# Route to handle chatbot responses\n",
    "@app.route(\"/get\")\n",
    "def get_bot_response():\n",
    "    user_input = request.args.get('msg')  # Get user input from the query parameter\n",
    "    if not user_input:\n",
    "        return \"Please enter a valid message.\"\n",
    "\n",
    "    try:\n",
    "        # Get the chatbot response\n",
    "        bot_response = response(user_input.lower(), responses_data, error_responses)\n",
    "        return str(bot_response)\n",
    "    except Exception as e:\n",
    "        # Handle errors gracefully and log them\n",
    "        return f\"An error occurred while processing your request: {str(e)}\"\n",
    "\n",
    "# Run the Flask app\n",
    "if __name__ == \"__main__\":\n",
    "    app.run(debug=True)\n"
   ]
  },
  {
   "cell_type": "code",
   "execution_count": null,
   "id": "5afbe5a6-0b6c-4739-b693-68889a4f007c",
   "metadata": {},
   "outputs": [],
   "source": []
  }
 ],
 "metadata": {
  "kernelspec": {
   "display_name": "Python 3 (ipykernel)",
   "language": "python",
   "name": "python3"
  },
  "language_info": {
   "codemirror_mode": {
    "name": "ipython",
    "version": 3
   },
   "file_extension": ".py",
   "mimetype": "text/x-python",
   "name": "python",
   "nbconvert_exporter": "python",
   "pygments_lexer": "ipython3",
   "version": "3.12.7"
  }
 },
 "nbformat": 4,
 "nbformat_minor": 5
}
