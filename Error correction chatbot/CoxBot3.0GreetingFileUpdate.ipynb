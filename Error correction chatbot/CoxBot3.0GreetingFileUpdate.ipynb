{
 "cells": [
  {
   "cell_type": "code",
   "execution_count": 3,
   "id": "c0874265-f13d-4aec-9c4b-27bb959cbb63",
   "metadata": {},
   "outputs": [
    {
     "name": "stderr",
     "output_type": "stream",
     "text": [
      "[nltk_data] Downloading package punkt to\n",
      "[nltk_data]     C:\\Users\\User\\AppData\\Roaming\\nltk_data...\n",
      "[nltk_data]   Package punkt is already up-to-date!\n",
      "[nltk_data] Downloading package wordnet to\n",
      "[nltk_data]     C:\\Users\\User\\AppData\\Roaming\\nltk_data...\n",
      "[nltk_data]   Package wordnet is already up-to-date!\n"
     ]
    },
    {
     "name": "stdout",
     "output_type": "stream",
     "text": [
      "CoxBot: Hello! I can help you with Python or Java errors. Type 'bye' to exit.\n"
     ]
    },
    {
     "name": "stdin",
     "output_type": "stream",
     "text": [
      "You:  hi\n"
     ]
    },
    {
     "name": "stdout",
     "output_type": "stream",
     "text": [
      "CoxBot: Hi there, how can I help?\n"
     ]
    },
    {
     "name": "stdin",
     "output_type": "stream",
     "text": [
      "You:  how are you?\n"
     ]
    },
    {
     "name": "stdout",
     "output_type": "stream",
     "text": [
      "CoxBot: I 'm great\n"
     ]
    },
    {
     "name": "stdin",
     "output_type": "stream",
     "text": [
      "You:  What's your name?\n"
     ]
    },
    {
     "name": "stdout",
     "output_type": "stream",
     "text": [
      "CoxBot: Sorry, I didn't understand that. Can you provide more details?\n"
     ]
    },
    {
     "name": "stdin",
     "output_type": "stream",
     "text": [
      "You:  who are you?\n"
     ]
    },
    {
     "name": "stdout",
     "output_type": "stream",
     "text": [
      "CoxBot: I am COX\n"
     ]
    },
    {
     "name": "stdin",
     "output_type": "stream",
     "text": [
      "You:  bye\n"
     ]
    },
    {
     "name": "stdout",
     "output_type": "stream",
     "text": [
      "CoxBot: Goodbye! Have a nice day!\n"
     ]
    }
   ],
   "source": [
    "import re\n",
    "import json\n",
    "import nltk\n",
    "import string\n",
    "import time\n",
    "import random\n",
    "from nltk.stem import WordNetLemmatizer, PorterStemmer\n",
    "from selenium import webdriver\n",
    "from selenium.webdriver.common.by import By\n",
    "from selenium.webdriver.firefox.service import Service\n",
    "from selenium.webdriver.support.ui import WebDriverWait\n",
    "from selenium.webdriver.support import expected_conditions as EC\n",
    "from webdriver_manager.firefox import GeckoDriverManager\n",
    "\n",
    "# Ensure necessary NLTK resources are downloaded\n",
    "nltk.download('punkt')\n",
    "nltk.download('wordnet')\n",
    "\n",
    "# Initialize lemmatizer and stemmer\n",
    "lemmer = WordNetLemmatizer()\n",
    "stemmer = PorterStemmer()\n",
    "\n",
    "# Tokenization, lemmatization, and stemming functions\n",
    "def LemTokens(tokens):\n",
    "    return [lemmer.lemmatize(token) for token in tokens]\n",
    "\n",
    "def StemTokens(tokens):\n",
    "    return [stemmer.stem(token) for token in tokens]\n",
    "\n",
    "remove_punct_dict = dict((ord(punct), None) for punct in string.punctuation)\n",
    "\n",
    "def LemNormalize(text):\n",
    "    return LemTokens(nltk.word_tokenize(text.lower().translate(remove_punct_dict)))\n",
    "\n",
    "# Load responses from JSON\n",
    "def load_responses(file_path):\n",
    "    try:\n",
    "        with open(file_path, 'r', encoding='utf-8') as f:\n",
    "            return json.load(f)\n",
    "    except Exception as e:\n",
    "        print(f\"Error loading responses: {e}\")\n",
    "        return {}\n",
    "\n",
    "# Load error responses from a text file\n",
    "def load_error_responses(file_path):\n",
    "    try:\n",
    "        error_responses = {}\n",
    "        with open(file_path, 'r', encoding='utf-8') as f:\n",
    "            for line in f:\n",
    "                if line.strip():\n",
    "                    key, url = line.split(\":\", 1)\n",
    "                    error_responses[key.strip()] = url.strip()\n",
    "        return error_responses\n",
    "    except Exception as e:\n",
    "        print(f\"Error loading error responses: {e}\")\n",
    "        return {}\n",
    "\n",
    "# Detect Python or Java errors\n",
    "def detect_error(user_input):\n",
    "    tokens = LemNormalize(user_input)\n",
    "    processed_input = \" \".join(tokens)\n",
    "    \n",
    "    python_pattern = (\n",
    "        r\"traceback \\(most recent call last\\):|nameerror|typeerror|valueerror|\"\n",
    "        r\"importerror|indentationerror|keyerror|indexerror|attributeerror|\"\n",
    "        r\"modulenotfounderror|syntaxerror\"\n",
    "    )\n",
    "    java_pattern = (\n",
    "        r\"exception in thread.*|nullpointerexception|arrayindexoutofboundsexception|\"\n",
    "        r\"classnotfoundexception|illegalargumentexception|numberformatexception|\"\n",
    "        r\"filenotfoundexception|noclassdeffounderror|arithmeticexception|\"\n",
    "        r\"unsupportedoperationexception|java\\.lang\\.[a-z]+exception\"\n",
    "    )\n",
    "    \n",
    "    if re.search(python_pattern, processed_input, re.IGNORECASE):\n",
    "        return \"python\"\n",
    "    elif re.search(java_pattern, processed_input, re.IGNORECASE):\n",
    "        return \"java\"\n",
    "    return None\n",
    "\n",
    "# Extract error message\n",
    "def extract_error_message(error_input):\n",
    "    match = re.search(r\"(nullpointerexception|arrayindexoutofboundsexception|\"\n",
    "                      r\"classnotfoundexception|illegalargumentexception|\"\n",
    "                      r\"numberformatexception|filenotfoundexception|\"\n",
    "                      r\"noclassdeffounderror|arithmeticexception|\"\n",
    "                      r\"unsupportedoperationexception|java\\.lang\\.[a-z]+exception|\"\n",
    "                      r\"traceback|nameerror|typeerror|valueerror|\"\n",
    "                      r\"importerror|indentationerror|keyerror|indexerror|\"\n",
    "                      r\"attributeerror|modulenotfounderror|syntaxerror)\", \n",
    "                      error_input, re.IGNORECASE)\n",
    "    if match:\n",
    "        return match.group(0).lower().replace('java.lang.', '')\n",
    "    return None\n",
    "\n",
    "# Search Stack Overflow using Selenium\n",
    "def search_stack_overflow(error_type, user_input, error_responses):\n",
    "    error_message = extract_error_message(user_input)\n",
    "    if not error_message:\n",
    "        return \"Could not identify the error message from the input.\"\n",
    "\n",
    "    base_url = error_responses.get(error_type)\n",
    "    if not base_url:\n",
    "        return \"I couldn't find a suitable Stack Overflow URL for this error type.\"\n",
    "    \n",
    "    search_url = f\"{base_url}+{error_message.replace(' ', '+')}\"\n",
    "\n",
    "    try:\n",
    "        service = Service(GeckoDriverManager().install())\n",
    "        driver = webdriver.Firefox(service=service)\n",
    "        driver.get(search_url)\n",
    "\n",
    "        wait = WebDriverWait(driver, 10)\n",
    "        results = wait.until(EC.presence_of_all_elements_located((By.CSS_SELECTOR, '.result-link > a')))\n",
    "        \n",
    "        if results:\n",
    "            first_result_url = results[0].get_attribute('href')\n",
    "            driver.quit()\n",
    "            return f\"Here is a suggested solution: {first_result_url}\"\n",
    "        else:\n",
    "            driver.quit()\n",
    "            return \"No solutions were found on Stack Overflow for your error.\"\n",
    "    except Exception as e:\n",
    "        return f\"An error occurred while accessing Stack Overflow: {str(e)}\"\n",
    "\n",
    "# Get error solution\n",
    "def get_error_solution(error_type, user_input, error_responses):\n",
    "    return search_stack_overflow(error_type, user_input, error_responses)\n",
    "\n",
    "# Chatbot response logic\n",
    "def response(user_response, responses_data, error_responses):\n",
    "    if user_response == \"patterns\":\n",
    "        patterns = [pattern for intent in responses_data.get(\"intents\", []) for pattern in intent[\"patterns\"]]\n",
    "        return f\"Here are the patterns I recognize: {', '.join(patterns)}\"\n",
    "    \n",
    "    for intent in responses_data.get(\"intents\", []):\n",
    "        for pattern in intent[\"patterns\"]:\n",
    "            if re.search(pattern, user_response, re.IGNORECASE):\n",
    "                return random.choice(intent[\"responses\"])\n",
    "    \n",
    "    error_type = detect_error(user_response)\n",
    "    if error_type:\n",
    "        return get_error_solution(error_type, user_response, error_responses)\n",
    "    \n",
    "    return \"Sorry, I didn't understand that. Can you provide more details?\"\n",
    "\n",
    "# Main chatbot loop\n",
    "if __name__ == \"__main__\":\n",
    "    responses_data = load_responses('responses.json')\n",
    "    if not responses_data:\n",
    "        print(\"Error: Responses data not loaded correctly.\")\n",
    "        exit()\n",
    "\n",
    "    error_responses = load_error_responses('error_responses.txt')\n",
    "    if not error_responses:\n",
    "        print(\"Error: No error responses found in the text file.\")\n",
    "        exit()\n",
    "\n",
    "    print(\"CoxBot: Hello! I can help you with Python or Java errors. Type 'bye' to exit.\")\n",
    "\n",
    "    while True:\n",
    "        user_response = input(\"You: \").lower()\n",
    "        if user_response == 'bye':\n",
    "            print(\"CoxBot: Goodbye! Have a nice day!\")\n",
    "            break\n",
    "        elif user_response in ['thanks', 'thank you']:\n",
    "            print(\"CoxBot: You are welcome!\")\n",
    "        else:\n",
    "            print(\"CoxBot: \", end=\"\")\n",
    "            print(response(user_response, responses_data, error_responses))\n"
   ]
  },
  {
   "cell_type": "code",
   "execution_count": null,
   "id": "5a70c7ad-cceb-47d4-b252-5d8a48c71af5",
   "metadata": {},
   "outputs": [],
   "source": []
  },
  {
   "cell_type": "code",
   "execution_count": null,
   "id": "53d97ecc-1858-4f7e-b266-a4482d0e5cd9",
   "metadata": {},
   "outputs": [],
   "source": []
  },
  {
   "cell_type": "code",
   "execution_count": null,
   "id": "91b6f0bf-4caa-4a18-a6e6-d6b8dc4feb25",
   "metadata": {},
   "outputs": [],
   "source": []
  }
 ],
 "metadata": {
  "kernelspec": {
   "display_name": "Python 3 (ipykernel)",
   "language": "python",
   "name": "python3"
  },
  "language_info": {
   "codemirror_mode": {
    "name": "ipython",
    "version": 3
   },
   "file_extension": ".py",
   "mimetype": "text/x-python",
   "name": "python",
   "nbconvert_exporter": "python",
   "pygments_lexer": "ipython3",
   "version": "3.12.7"
  }
 },
 "nbformat": 4,
 "nbformat_minor": 5
}
